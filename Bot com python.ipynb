{
 "cells": [
  {
   "cell_type": "code",
   "execution_count": 1,
   "id": "819e132b",
   "metadata": {},
   "outputs": [],
   "source": [
    "import telebot"
   ]
  },
  {
   "cell_type": "code",
   "execution_count": 2,
   "id": "1ded4b7d",
   "metadata": {},
   "outputs": [],
   "source": [
    "CHAVE_API = \"1412098204:AAEG4MbCnQ8vZl4zTgfiDRIDk6N_TE6B5lg\""
   ]
  },
  {
   "cell_type": "code",
   "execution_count": 3,
   "id": "7a11fdf1",
   "metadata": {},
   "outputs": [],
   "source": [
    "bot = telebot.TeleBot(CHAVE_API)"
   ]
  },
  {
   "cell_type": "code",
   "execution_count": 4,
   "id": "d62c922b",
   "metadata": {},
   "outputs": [],
   "source": [
    "@bot.message_handler(commands=[\"opcao1\"])\n",
    "def opcao1(mensagem):\n",
    "    bot.send_message(mensagem.chat.id, \"Ok, para novo atendimento, solicito que aguarde mais um pouco e ouça a música 5 patinhos com a Xuxa\")"
   ]
  },
  {
   "cell_type": "code",
   "execution_count": 5,
   "id": "92876062",
   "metadata": {},
   "outputs": [],
   "source": [
    "@bot.message_handler(commands=[\"opcao2\"])\n",
    "def opcao2(mensagem):\n",
    "    bot.send_message(mensagem.chat.id, \"Ok, sua reclamação foi anotada e ignorada com sucesso.\")"
   ]
  },
  {
   "cell_type": "code",
   "execution_count": 6,
   "id": "1d170318",
   "metadata": {},
   "outputs": [],
   "source": [
    "@bot.message_handler(commands=[\"opcao3\"])\n",
    "def opcao3(mensagem):\n",
    "    print(mensagem)\n",
    "    bot.send_message(mensagem.chat.id, \"Ok, na sua próxima consulta terá seu cafezinho te esperando.\")"
   ]
  },
  {
   "cell_type": "code",
   "execution_count": 7,
   "id": "522f53cd",
   "metadata": {},
   "outputs": [],
   "source": [
    "def verificar(mensagem):\n",
    "    return True    "
   ]
  },
  {
   "cell_type": "code",
   "execution_count": 8,
   "id": "ea1d5371",
   "metadata": {},
   "outputs": [],
   "source": [
    "@bot.message_handler(func=verificar)\n",
    "def responder(mensagem):\n",
    "    texto = \"\"\"\n",
    "    Escolha uma opção para continuar (clique no item):\n",
    "    /opcao1 Novo atendimento\n",
    "    /opcao2 Reclamação sobre o ultimo atendimento\n",
    "    /opcao3 Pedir um cafezinho para o próximo atendimento\n",
    "    \n",
    "    Responder qualquer coisa não vai funcionar, tem que ser uma das opções.\n",
    "    \"\"\"\n",
    "    bot.send_message(mensagem.chat.id, texto)"
   ]
  },
  {
   "cell_type": "code",
   "execution_count": null,
   "id": "962da6ce",
   "metadata": {
    "scrolled": true
   },
   "outputs": [
    {
     "name": "stdout",
     "output_type": "stream",
     "text": [
      "{'content_type': 'text', 'id': 78, 'message_id': 78, 'from_user': {'id': 145336784, 'is_bot': False, 'first_name': 'Luana', 'username': 'luanagiusto', 'last_name': 'Giusto', 'language_code': 'pt-br', 'can_join_groups': None, 'can_read_all_group_messages': None, 'supports_inline_queries': None}, 'date': 1636420355, 'chat': {'id': 145336784, 'type': 'private', 'title': None, 'username': 'luanagiusto', 'first_name': 'Luana', 'last_name': 'Giusto', 'photo': None, 'bio': None, 'description': None, 'invite_link': None, 'pinned_message': None, 'permissions': None, 'slow_mode_delay': None, 'message_auto_delete_time': None, 'sticker_set_name': None, 'can_set_sticker_set': None, 'linked_chat_id': None, 'location': None}, 'sender_chat': None, 'forward_from': None, 'forward_from_chat': None, 'forward_from_message_id': None, 'forward_signature': None, 'forward_sender_name': None, 'forward_date': None, 'reply_to_message': None, 'via_bot': None, 'edit_date': None, 'media_group_id': None, 'author_signature': None, 'text': '/opcao3', 'entities': [<telebot.types.MessageEntity object at 0x000001A33A5118B0>], 'caption_entities': None, 'audio': None, 'document': None, 'photo': None, 'sticker': None, 'video': None, 'video_note': None, 'voice': None, 'caption': None, 'contact': None, 'location': None, 'venue': None, 'animation': None, 'dice': None, 'new_chat_member': None, 'new_chat_members': None, 'left_chat_member': None, 'new_chat_title': None, 'new_chat_photo': None, 'delete_chat_photo': None, 'group_chat_created': None, 'supergroup_chat_created': None, 'channel_chat_created': None, 'migrate_to_chat_id': None, 'migrate_from_chat_id': None, 'pinned_message': None, 'invoice': None, 'successful_payment': None, 'connected_website': None, 'reply_markup': None, 'json': {'message_id': 78, 'from': {'id': 145336784, 'is_bot': False, 'first_name': 'Luana', 'last_name': 'Giusto', 'username': 'luanagiusto', 'language_code': 'pt-br'}, 'chat': {'id': 145336784, 'first_name': 'Luana', 'last_name': 'Giusto', 'username': 'luanagiusto', 'type': 'private'}, 'date': 1636420355, 'text': '/opcao3', 'entities': [{'offset': 0, 'length': 7, 'type': 'bot_command'}]}}\n",
      "{'content_type': 'text', 'id': 80, 'message_id': 80, 'from_user': {'id': 767580280, 'is_bot': False, 'first_name': 'Lucas', 'username': None, 'last_name': 'Ap', 'language_code': 'pt-br', 'can_join_groups': None, 'can_read_all_group_messages': None, 'supports_inline_queries': None}, 'date': 1636420362, 'chat': {'id': 767580280, 'type': 'private', 'title': None, 'username': None, 'first_name': 'Lucas', 'last_name': 'Ap', 'photo': None, 'bio': None, 'description': None, 'invite_link': None, 'pinned_message': None, 'permissions': None, 'slow_mode_delay': None, 'message_auto_delete_time': None, 'sticker_set_name': None, 'can_set_sticker_set': None, 'linked_chat_id': None, 'location': None}, 'sender_chat': None, 'forward_from': None, 'forward_from_chat': None, 'forward_from_message_id': None, 'forward_signature': None, 'forward_sender_name': None, 'forward_date': None, 'reply_to_message': None, 'via_bot': None, 'edit_date': None, 'media_group_id': None, 'author_signature': None, 'text': '/opcao3', 'entities': [<telebot.types.MessageEntity object at 0x000001A33A511940>], 'caption_entities': None, 'audio': None, 'document': None, 'photo': None, 'sticker': None, 'video': None, 'video_note': None, 'voice': None, 'caption': None, 'contact': None, 'location': None, 'venue': None, 'animation': None, 'dice': None, 'new_chat_member': None, 'new_chat_members': None, 'left_chat_member': None, 'new_chat_title': None, 'new_chat_photo': None, 'delete_chat_photo': None, 'group_chat_created': None, 'supergroup_chat_created': None, 'channel_chat_created': None, 'migrate_to_chat_id': None, 'migrate_from_chat_id': None, 'pinned_message': None, 'invoice': None, 'successful_payment': None, 'connected_website': None, 'reply_markup': None, 'json': {'message_id': 80, 'from': {'id': 767580280, 'is_bot': False, 'first_name': 'Lucas', 'last_name': 'Ap', 'language_code': 'pt-br'}, 'chat': {'id': 767580280, 'first_name': 'Lucas', 'last_name': 'Ap', 'type': 'private'}, 'date': 1636420362, 'text': '/opcao3', 'entities': [{'offset': 0, 'length': 7, 'type': 'bot_command'}]}}\n",
      "{'content_type': 'text', 'id': 84, 'message_id': 84, 'from_user': {'id': 145336784, 'is_bot': False, 'first_name': 'Luana', 'username': 'luanagiusto', 'last_name': 'Giusto', 'language_code': 'pt-br', 'can_join_groups': None, 'can_read_all_group_messages': None, 'supports_inline_queries': None}, 'date': 1636420437, 'chat': {'id': 145336784, 'type': 'private', 'title': None, 'username': 'luanagiusto', 'first_name': 'Luana', 'last_name': 'Giusto', 'photo': None, 'bio': None, 'description': None, 'invite_link': None, 'pinned_message': None, 'permissions': None, 'slow_mode_delay': None, 'message_auto_delete_time': None, 'sticker_set_name': None, 'can_set_sticker_set': None, 'linked_chat_id': None, 'location': None}, 'sender_chat': None, 'forward_from': None, 'forward_from_chat': None, 'forward_from_message_id': None, 'forward_signature': None, 'forward_sender_name': None, 'forward_date': None, 'reply_to_message': None, 'via_bot': None, 'edit_date': None, 'media_group_id': None, 'author_signature': None, 'text': '/opcao3', 'entities': [<telebot.types.MessageEntity object at 0x000001A33A511CA0>], 'caption_entities': None, 'audio': None, 'document': None, 'photo': None, 'sticker': None, 'video': None, 'video_note': None, 'voice': None, 'caption': None, 'contact': None, 'location': None, 'venue': None, 'animation': None, 'dice': None, 'new_chat_member': None, 'new_chat_members': None, 'left_chat_member': None, 'new_chat_title': None, 'new_chat_photo': None, 'delete_chat_photo': None, 'group_chat_created': None, 'supergroup_chat_created': None, 'channel_chat_created': None, 'migrate_to_chat_id': None, 'migrate_from_chat_id': None, 'pinned_message': None, 'invoice': None, 'successful_payment': None, 'connected_website': None, 'reply_markup': None, 'json': {'message_id': 84, 'from': {'id': 145336784, 'is_bot': False, 'first_name': 'Luana', 'last_name': 'Giusto', 'username': 'luanagiusto', 'language_code': 'pt-br'}, 'chat': {'id': 145336784, 'first_name': 'Luana', 'last_name': 'Giusto', 'username': 'luanagiusto', 'type': 'private'}, 'date': 1636420437, 'text': '/opcao3', 'entities': [{'offset': 0, 'length': 7, 'type': 'bot_command'}]}}\n"
     ]
    }
   ],
   "source": [
    "bot.polling()"
   ]
  },
  {
   "cell_type": "code",
   "execution_count": null,
   "id": "8aa14c6a",
   "metadata": {},
   "outputs": [],
   "source": []
  }
 ],
 "metadata": {
  "kernelspec": {
   "display_name": "Python 3",
   "language": "python",
   "name": "python3"
  },
  "language_info": {
   "codemirror_mode": {
    "name": "ipython",
    "version": 3
   },
   "file_extension": ".py",
   "mimetype": "text/x-python",
   "name": "python",
   "nbconvert_exporter": "python",
   "pygments_lexer": "ipython3",
   "version": "3.8.8"
  }
 },
 "nbformat": 4,
 "nbformat_minor": 5
}
